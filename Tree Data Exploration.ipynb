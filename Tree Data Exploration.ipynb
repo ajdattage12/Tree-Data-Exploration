{
 "cells": [
  {
   "cell_type": "code",
   "execution_count": 2,
   "id": "5fbed333",
   "metadata": {},
   "outputs": [],
   "source": [
    "import numpy as np\n",
    "\n",
    "import pandas as pd\n",
    "\n",
    "import matplotlib.pyplot as plt\n",
    "%matplotlib inline"
   ]
  },
  {
   "cell_type": "code",
   "execution_count": 3,
   "id": "10452c4a",
   "metadata": {
    "scrolled": true
   },
   "outputs": [
    {
     "name": "stdout",
     "output_type": "stream",
     "text": [
      "        TreeID    qLegalStatus  \\\n",
      "0        48142  Permitted Site   \n",
      "1        19725  DPW Maintained   \n",
      "2       121399  DPW Maintained   \n",
      "3        46536  Permitted Site   \n",
      "4       251210  DPW Maintained   \n",
      "...        ...             ...   \n",
      "195756     231  DPW Maintained   \n",
      "195757   92652  Permitted Site   \n",
      "195758  108942  Permitted Site   \n",
      "195759  143411  DPW Maintained   \n",
      "195760   15238  DPW Maintained   \n",
      "\n",
      "                                                 qSpecies           qAddress  \\\n",
      "0                                              Tree(s) ::                NaN   \n",
      "1                                   Pinus Spp :: Pine Spp     100 STAIRWAY14   \n",
      "2                 Corymbia ficifolia :: Red Flowering Gum     349X Cargo Way   \n",
      "3                                              Tree(s) ::       73 Summer St   \n",
      "4       Eucalyptus polyanthemos :: Silver Dollar Eucal...    1170 Ingalls St   \n",
      "...                                                   ...                ...   \n",
      "195756     Platanus x hispanica :: Sycamore: London Plane      2975 19th Ave   \n",
      "195757             Azara microphylla :: Little-Leaf Azara      2201 Baker St   \n",
      "195758         Arbutus 'Marina' :: Hybrid Strawberry Tree  115B Prospect Ave   \n",
      "195759     Platanus x hispanica :: Sycamore: London Plane     1244 MARKET ST   \n",
      "195760              Lophostemon confertus :: Brisbane Box    1339 Mission St   \n",
      "\n",
      "        SiteOrder                         qSiteInfo PlantType qCaretaker  \\\n",
      "0           252.0      Sidewalk: Curb side : Cutout      Tree    Private   \n",
      "1             3.0      Sidewalk: Curb side : Cutout      Tree        DPW   \n",
      "2             1.0      Sidewalk: Curb side : Cutout      Tree        DPW   \n",
      "3             2.0      Sidewalk: Curb side : Cutout      Tree    Private   \n",
      "4             2.0      Sidewalk: Curb side : Cutout      Tree        DPW   \n",
      "...           ...                               ...       ...        ...   \n",
      "195756        2.0      Sidewalk: Curb side : Cutout      Tree        DPW   \n",
      "195757       18.0  Sidewalk: Property side : Cutout      Tree    Private   \n",
      "195758        1.0      Sidewalk: Curb side : Cutout      Tree    Private   \n",
      "195759        1.0      Sidewalk: Curb side : Cutout      Tree    Private   \n",
      "195760        1.0      Sidewalk: Curb side : Cutout      Tree        DPW   \n",
      "\n",
      "       qCareAssistant               PlantDate  ...        XCoord  \\\n",
      "0                 NaN  07/17/2002 12:00:00 AM  ...           NaN   \n",
      "1                 NaN                     NaN  ...           NaN   \n",
      "2                 NaN                     NaN  ...           NaN   \n",
      "3                 NaN  04/01/2002 12:00:00 AM  ...           NaN   \n",
      "4                 NaN  11/02/1992 12:00:00 AM  ...           NaN   \n",
      "...               ...                     ...  ...           ...   \n",
      "195756            NaN  03/09/2000 12:00:00 AM  ...  5.990529e+06   \n",
      "195757            NaN  08/25/2009 12:00:00 AM  ...  5.999814e+06   \n",
      "195758            FUF  01/13/2015 12:00:00 AM  ...  6.006936e+06   \n",
      "195759            NaN                     NaN  ...  6.008078e+06   \n",
      "195760            NaN  07/31/2012 12:00:00 AM  ...  6.008169e+06   \n",
      "\n",
      "              YCoord   Latitude   Longitude  \\\n",
      "0                NaN        NaN         NaN   \n",
      "1                NaN        NaN         NaN   \n",
      "2                NaN        NaN         NaN   \n",
      "3                NaN        NaN         NaN   \n",
      "4                NaN        NaN         NaN   \n",
      "...              ...        ...         ...   \n",
      "195756  2.095426e+06  37.733095 -122.475141   \n",
      "195757  2.116396e+06  37.791208 -122.444547   \n",
      "195758  2.098797e+06  37.743289 -122.418655   \n",
      "195759  2.111483e+06  37.778185 -122.415606   \n",
      "195760  2.110575e+06  37.775699 -122.415228   \n",
      "\n",
      "                                         Location  Fire Prevention Districts  \\\n",
      "0                                             NaN                        NaN   \n",
      "1                                             NaN                        NaN   \n",
      "2                                             NaN                        NaN   \n",
      "3                                             NaN                        NaN   \n",
      "4                                             NaN                        NaN   \n",
      "...                                           ...                        ...   \n",
      "195756     (37.7330954514847, -122.4751412005191)                        1.0   \n",
      "195757  (37.791207910729526, -122.44454696545509)                       13.0   \n",
      "195758    (37.7432887637665, -122.41865503445295)                        2.0   \n",
      "195759   (37.77818489380947, -122.41560621944208)                        7.0   \n",
      "195760   (37.77569926325394, -122.41522780193992)                        8.0   \n",
      "\n",
      "        Police Districts Supervisor Districts  Zip Codes  Neighborhoods (old)  \n",
      "0                    NaN                  NaN        NaN                  NaN  \n",
      "1                    NaN                  NaN        NaN                  NaN  \n",
      "2                    NaN                  NaN        NaN                  NaN  \n",
      "3                    NaN                  NaN        NaN                  NaN  \n",
      "4                    NaN                  NaN        NaN                  NaN  \n",
      "...                  ...                  ...        ...                  ...  \n",
      "195756               8.0                  4.0       64.0                 35.0  \n",
      "195757               6.0                  1.0    29490.0                 27.0  \n",
      "195758               7.0                  7.0    28859.0                  2.0  \n",
      "195759               2.0                  9.0    28852.0                 36.0  \n",
      "195760               2.0                  9.0    28853.0                 34.0  \n",
      "\n",
      "[195761 rows x 23 columns]\n"
     ]
    }
   ],
   "source": [
    "file = pd.read_csv('Street_Tree_List.csv')\n",
    "print(file)"
   ]
  },
  {
   "cell_type": "markdown",
   "id": "76975a61",
   "metadata": {},
   "source": [
    "This notebook describes data about the San Fransico, California street trees the city maintains including: planting date, species, and location."
   ]
  },
  {
   "cell_type": "markdown",
   "id": "60f6d025",
   "metadata": {},
   "source": [
    "Let's begin by getting a snapshot of the first five rows of data we will be working with. "
   ]
  },
  {
   "cell_type": "code",
   "execution_count": 4,
   "id": "800882d2",
   "metadata": {
    "scrolled": true
   },
   "outputs": [
    {
     "data": {
      "text/html": [
       "<div>\n",
       "<style scoped>\n",
       "    .dataframe tbody tr th:only-of-type {\n",
       "        vertical-align: middle;\n",
       "    }\n",
       "\n",
       "    .dataframe tbody tr th {\n",
       "        vertical-align: top;\n",
       "    }\n",
       "\n",
       "    .dataframe thead th {\n",
       "        text-align: right;\n",
       "    }\n",
       "</style>\n",
       "<table border=\"1\" class=\"dataframe\">\n",
       "  <thead>\n",
       "    <tr style=\"text-align: right;\">\n",
       "      <th></th>\n",
       "      <th>TreeID</th>\n",
       "      <th>qLegalStatus</th>\n",
       "      <th>qSpecies</th>\n",
       "      <th>qAddress</th>\n",
       "      <th>SiteOrder</th>\n",
       "      <th>qSiteInfo</th>\n",
       "      <th>PlantType</th>\n",
       "      <th>qCaretaker</th>\n",
       "      <th>qCareAssistant</th>\n",
       "      <th>PlantDate</th>\n",
       "      <th>...</th>\n",
       "      <th>XCoord</th>\n",
       "      <th>YCoord</th>\n",
       "      <th>Latitude</th>\n",
       "      <th>Longitude</th>\n",
       "      <th>Location</th>\n",
       "      <th>Fire Prevention Districts</th>\n",
       "      <th>Police Districts</th>\n",
       "      <th>Supervisor Districts</th>\n",
       "      <th>Zip Codes</th>\n",
       "      <th>Neighborhoods (old)</th>\n",
       "    </tr>\n",
       "  </thead>\n",
       "  <tbody>\n",
       "    <tr>\n",
       "      <th>0</th>\n",
       "      <td>48142</td>\n",
       "      <td>Permitted Site</td>\n",
       "      <td>Tree(s) ::</td>\n",
       "      <td>NaN</td>\n",
       "      <td>252.0</td>\n",
       "      <td>Sidewalk: Curb side : Cutout</td>\n",
       "      <td>Tree</td>\n",
       "      <td>Private</td>\n",
       "      <td>NaN</td>\n",
       "      <td>07/17/2002 12:00:00 AM</td>\n",
       "      <td>...</td>\n",
       "      <td>NaN</td>\n",
       "      <td>NaN</td>\n",
       "      <td>NaN</td>\n",
       "      <td>NaN</td>\n",
       "      <td>NaN</td>\n",
       "      <td>NaN</td>\n",
       "      <td>NaN</td>\n",
       "      <td>NaN</td>\n",
       "      <td>NaN</td>\n",
       "      <td>NaN</td>\n",
       "    </tr>\n",
       "    <tr>\n",
       "      <th>1</th>\n",
       "      <td>19725</td>\n",
       "      <td>DPW Maintained</td>\n",
       "      <td>Pinus Spp :: Pine Spp</td>\n",
       "      <td>100 STAIRWAY14</td>\n",
       "      <td>3.0</td>\n",
       "      <td>Sidewalk: Curb side : Cutout</td>\n",
       "      <td>Tree</td>\n",
       "      <td>DPW</td>\n",
       "      <td>NaN</td>\n",
       "      <td>NaN</td>\n",
       "      <td>...</td>\n",
       "      <td>NaN</td>\n",
       "      <td>NaN</td>\n",
       "      <td>NaN</td>\n",
       "      <td>NaN</td>\n",
       "      <td>NaN</td>\n",
       "      <td>NaN</td>\n",
       "      <td>NaN</td>\n",
       "      <td>NaN</td>\n",
       "      <td>NaN</td>\n",
       "      <td>NaN</td>\n",
       "    </tr>\n",
       "    <tr>\n",
       "      <th>2</th>\n",
       "      <td>121399</td>\n",
       "      <td>DPW Maintained</td>\n",
       "      <td>Corymbia ficifolia :: Red Flowering Gum</td>\n",
       "      <td>349X Cargo Way</td>\n",
       "      <td>1.0</td>\n",
       "      <td>Sidewalk: Curb side : Cutout</td>\n",
       "      <td>Tree</td>\n",
       "      <td>DPW</td>\n",
       "      <td>NaN</td>\n",
       "      <td>NaN</td>\n",
       "      <td>...</td>\n",
       "      <td>NaN</td>\n",
       "      <td>NaN</td>\n",
       "      <td>NaN</td>\n",
       "      <td>NaN</td>\n",
       "      <td>NaN</td>\n",
       "      <td>NaN</td>\n",
       "      <td>NaN</td>\n",
       "      <td>NaN</td>\n",
       "      <td>NaN</td>\n",
       "      <td>NaN</td>\n",
       "    </tr>\n",
       "    <tr>\n",
       "      <th>3</th>\n",
       "      <td>46536</td>\n",
       "      <td>Permitted Site</td>\n",
       "      <td>Tree(s) ::</td>\n",
       "      <td>73 Summer St</td>\n",
       "      <td>2.0</td>\n",
       "      <td>Sidewalk: Curb side : Cutout</td>\n",
       "      <td>Tree</td>\n",
       "      <td>Private</td>\n",
       "      <td>NaN</td>\n",
       "      <td>04/01/2002 12:00:00 AM</td>\n",
       "      <td>...</td>\n",
       "      <td>NaN</td>\n",
       "      <td>NaN</td>\n",
       "      <td>NaN</td>\n",
       "      <td>NaN</td>\n",
       "      <td>NaN</td>\n",
       "      <td>NaN</td>\n",
       "      <td>NaN</td>\n",
       "      <td>NaN</td>\n",
       "      <td>NaN</td>\n",
       "      <td>NaN</td>\n",
       "    </tr>\n",
       "    <tr>\n",
       "      <th>4</th>\n",
       "      <td>251210</td>\n",
       "      <td>DPW Maintained</td>\n",
       "      <td>Eucalyptus polyanthemos :: Silver Dollar Eucal...</td>\n",
       "      <td>1170 Ingalls St</td>\n",
       "      <td>2.0</td>\n",
       "      <td>Sidewalk: Curb side : Cutout</td>\n",
       "      <td>Tree</td>\n",
       "      <td>DPW</td>\n",
       "      <td>NaN</td>\n",
       "      <td>11/02/1992 12:00:00 AM</td>\n",
       "      <td>...</td>\n",
       "      <td>NaN</td>\n",
       "      <td>NaN</td>\n",
       "      <td>NaN</td>\n",
       "      <td>NaN</td>\n",
       "      <td>NaN</td>\n",
       "      <td>NaN</td>\n",
       "      <td>NaN</td>\n",
       "      <td>NaN</td>\n",
       "      <td>NaN</td>\n",
       "      <td>NaN</td>\n",
       "    </tr>\n",
       "  </tbody>\n",
       "</table>\n",
       "<p>5 rows × 23 columns</p>\n",
       "</div>"
      ],
      "text/plain": [
       "   TreeID    qLegalStatus                                           qSpecies  \\\n",
       "0   48142  Permitted Site                                         Tree(s) ::   \n",
       "1   19725  DPW Maintained                              Pinus Spp :: Pine Spp   \n",
       "2  121399  DPW Maintained            Corymbia ficifolia :: Red Flowering Gum   \n",
       "3   46536  Permitted Site                                         Tree(s) ::   \n",
       "4  251210  DPW Maintained  Eucalyptus polyanthemos :: Silver Dollar Eucal...   \n",
       "\n",
       "          qAddress  SiteOrder                     qSiteInfo PlantType  \\\n",
       "0              NaN      252.0  Sidewalk: Curb side : Cutout      Tree   \n",
       "1   100 STAIRWAY14        3.0  Sidewalk: Curb side : Cutout      Tree   \n",
       "2   349X Cargo Way        1.0  Sidewalk: Curb side : Cutout      Tree   \n",
       "3     73 Summer St        2.0  Sidewalk: Curb side : Cutout      Tree   \n",
       "4  1170 Ingalls St        2.0  Sidewalk: Curb side : Cutout      Tree   \n",
       "\n",
       "  qCaretaker qCareAssistant               PlantDate  ...  XCoord YCoord  \\\n",
       "0    Private            NaN  07/17/2002 12:00:00 AM  ...     NaN    NaN   \n",
       "1        DPW            NaN                     NaN  ...     NaN    NaN   \n",
       "2        DPW            NaN                     NaN  ...     NaN    NaN   \n",
       "3    Private            NaN  04/01/2002 12:00:00 AM  ...     NaN    NaN   \n",
       "4        DPW            NaN  11/02/1992 12:00:00 AM  ...     NaN    NaN   \n",
       "\n",
       "  Latitude  Longitude  Location  Fire Prevention Districts  Police Districts  \\\n",
       "0      NaN        NaN       NaN                        NaN               NaN   \n",
       "1      NaN        NaN       NaN                        NaN               NaN   \n",
       "2      NaN        NaN       NaN                        NaN               NaN   \n",
       "3      NaN        NaN       NaN                        NaN               NaN   \n",
       "4      NaN        NaN       NaN                        NaN               NaN   \n",
       "\n",
       "  Supervisor Districts  Zip Codes  Neighborhoods (old)  \n",
       "0                  NaN        NaN                  NaN  \n",
       "1                  NaN        NaN                  NaN  \n",
       "2                  NaN        NaN                  NaN  \n",
       "3                  NaN        NaN                  NaN  \n",
       "4                  NaN        NaN                  NaN  \n",
       "\n",
       "[5 rows x 23 columns]"
      ]
     },
     "execution_count": 4,
     "metadata": {},
     "output_type": "execute_result"
    }
   ],
   "source": [
    "file.head()"
   ]
  },
  {
   "cell_type": "code",
   "execution_count": 5,
   "id": "f185e5ac",
   "metadata": {},
   "outputs": [
    {
     "name": "stdout",
     "output_type": "stream",
     "text": [
      "        TreeID    qLegalStatus  \\\n",
      "0        48142  Permitted Site   \n",
      "1        19725  DPW Maintained   \n",
      "2       121399  DPW Maintained   \n",
      "3        46536  Permitted Site   \n",
      "4       251210  DPW Maintained   \n",
      "...        ...             ...   \n",
      "195756     231  DPW Maintained   \n",
      "195757   92652  Permitted Site   \n",
      "195758  108942  Permitted Site   \n",
      "195759  143411  DPW Maintained   \n",
      "195760   15238  DPW Maintained   \n",
      "\n",
      "                                                 qSpecies           qAddress  \\\n",
      "0                                              Tree(s) ::                NaN   \n",
      "1                                   Pinus Spp :: Pine Spp     100 STAIRWAY14   \n",
      "2                 Corymbia ficifolia :: Red Flowering Gum     349X Cargo Way   \n",
      "3                                              Tree(s) ::       73 Summer St   \n",
      "4       Eucalyptus polyanthemos :: Silver Dollar Eucal...    1170 Ingalls St   \n",
      "...                                                   ...                ...   \n",
      "195756     Platanus x hispanica :: Sycamore: London Plane      2975 19th Ave   \n",
      "195757             Azara microphylla :: Little-Leaf Azara      2201 Baker St   \n",
      "195758         Arbutus 'Marina' :: Hybrid Strawberry Tree  115B Prospect Ave   \n",
      "195759     Platanus x hispanica :: Sycamore: London Plane     1244 MARKET ST   \n",
      "195760              Lophostemon confertus :: Brisbane Box    1339 Mission St   \n",
      "\n",
      "        SiteOrder                         qSiteInfo PlantType qCaretaker  \\\n",
      "0           252.0      Sidewalk: Curb side : Cutout      Tree    Private   \n",
      "1             3.0      Sidewalk: Curb side : Cutout      Tree        DPW   \n",
      "2             1.0      Sidewalk: Curb side : Cutout      Tree        DPW   \n",
      "3             2.0      Sidewalk: Curb side : Cutout      Tree    Private   \n",
      "4             2.0      Sidewalk: Curb side : Cutout      Tree        DPW   \n",
      "...           ...                               ...       ...        ...   \n",
      "195756        2.0      Sidewalk: Curb side : Cutout      Tree        DPW   \n",
      "195757       18.0  Sidewalk: Property side : Cutout      Tree    Private   \n",
      "195758        1.0      Sidewalk: Curb side : Cutout      Tree    Private   \n",
      "195759        1.0      Sidewalk: Curb side : Cutout      Tree    Private   \n",
      "195760        1.0      Sidewalk: Curb side : Cutout      Tree        DPW   \n",
      "\n",
      "       qCareAssistant               PlantDate  ...        XCoord  \\\n",
      "0                 NaN  07/17/2002 12:00:00 AM  ...           NaN   \n",
      "1                 NaN                     NaN  ...           NaN   \n",
      "2                 NaN                     NaN  ...           NaN   \n",
      "3                 NaN  04/01/2002 12:00:00 AM  ...           NaN   \n",
      "4                 NaN  11/02/1992 12:00:00 AM  ...           NaN   \n",
      "...               ...                     ...  ...           ...   \n",
      "195756            NaN  03/09/2000 12:00:00 AM  ...  5.990529e+06   \n",
      "195757            NaN  08/25/2009 12:00:00 AM  ...  5.999814e+06   \n",
      "195758            FUF  01/13/2015 12:00:00 AM  ...  6.006936e+06   \n",
      "195759            NaN                     NaN  ...  6.008078e+06   \n",
      "195760            NaN  07/31/2012 12:00:00 AM  ...  6.008169e+06   \n",
      "\n",
      "              YCoord   Latitude   Longitude  \\\n",
      "0                NaN        NaN         NaN   \n",
      "1                NaN        NaN         NaN   \n",
      "2                NaN        NaN         NaN   \n",
      "3                NaN        NaN         NaN   \n",
      "4                NaN        NaN         NaN   \n",
      "...              ...        ...         ...   \n",
      "195756  2.095426e+06  37.733095 -122.475141   \n",
      "195757  2.116396e+06  37.791208 -122.444547   \n",
      "195758  2.098797e+06  37.743289 -122.418655   \n",
      "195759  2.111483e+06  37.778185 -122.415606   \n",
      "195760  2.110575e+06  37.775699 -122.415228   \n",
      "\n",
      "                                         Location  Fire Prevention Districts  \\\n",
      "0                                             NaN                        NaN   \n",
      "1                                             NaN                        NaN   \n",
      "2                                             NaN                        NaN   \n",
      "3                                             NaN                        NaN   \n",
      "4                                             NaN                        NaN   \n",
      "...                                           ...                        ...   \n",
      "195756     (37.7330954514847, -122.4751412005191)                        1.0   \n",
      "195757  (37.791207910729526, -122.44454696545509)                       13.0   \n",
      "195758    (37.7432887637665, -122.41865503445295)                        2.0   \n",
      "195759   (37.77818489380947, -122.41560621944208)                        7.0   \n",
      "195760   (37.77569926325394, -122.41522780193992)                        8.0   \n",
      "\n",
      "        Police Districts Supervisor Districts  Zip Codes  Neighborhoods (old)  \n",
      "0                    NaN                  NaN        NaN                  NaN  \n",
      "1                    NaN                  NaN        NaN                  NaN  \n",
      "2                    NaN                  NaN        NaN                  NaN  \n",
      "3                    NaN                  NaN        NaN                  NaN  \n",
      "4                    NaN                  NaN        NaN                  NaN  \n",
      "...                  ...                  ...        ...                  ...  \n",
      "195756               8.0                  4.0       64.0                 35.0  \n",
      "195757               6.0                  1.0    29490.0                 27.0  \n",
      "195758               7.0                  7.0    28859.0                  2.0  \n",
      "195759               2.0                  9.0    28852.0                 36.0  \n",
      "195760               2.0                  9.0    28853.0                 34.0  \n",
      "\n",
      "[195453 rows x 23 columns]\n"
     ]
    }
   ],
   "source": [
    "isTree = file[file.PlantType == \"Tree\"]\n",
    "print(isTree)"
   ]
  },
  {
   "cell_type": "code",
   "execution_count": 6,
   "id": "01f8fa15",
   "metadata": {},
   "outputs": [],
   "source": [
    "totalTrees=(isTree.PlantType.count())"
   ]
  },
  {
   "cell_type": "markdown",
   "id": "93a7b969",
   "metadata": {},
   "source": [
    "Let's look at the total number of trees."
   ]
  },
  {
   "cell_type": "code",
   "execution_count": 7,
   "id": "06b16f33",
   "metadata": {},
   "outputs": [
    {
     "name": "stdout",
     "output_type": "stream",
     "text": [
      "There are 195453 in San Francisco, California.\n"
     ]
    }
   ],
   "source": [
    "print(f'There are {totalTrees} in San Francisco, California.')"
   ]
  },
  {
   "cell_type": "markdown",
   "id": "f2de4b75",
   "metadata": {},
   "source": [
    "Next, let's take a closer look at how man unique zipcodes are included in the data."
   ]
  },
  {
   "cell_type": "code",
   "execution_count": 8,
   "id": "c0a68c7b",
   "metadata": {},
   "outputs": [
    {
     "name": "stdout",
     "output_type": "stream",
     "text": [
      "[   nan 28859. 28860. 29491. 28853. 29490.    58.   308. 28852.    57.\n",
      "    54. 28861. 28858. 28855.    56.    55. 28856. 29492.   310. 28862.\n",
      "    63.   309.    59. 28857.    64. 28854.    61.    62. 28588. 28590.]\n"
     ]
    }
   ],
   "source": [
    "uniqueZipcodes = file['Zip Codes'].unique()\n",
    "print(uniqueZipcodes)"
   ]
  },
  {
   "cell_type": "markdown",
   "id": "4fef8ba7",
   "metadata": {},
   "source": [
    "Now, let's examine a histogram of the trees by zipcode. Histograms visualize frequency distributions."
   ]
  },
  {
   "cell_type": "code",
   "execution_count": 9,
   "id": "0c459029",
   "metadata": {
    "scrolled": true
   },
   "outputs": [],
   "source": [
    "treesByZipcode = file.groupby('Zip Codes')['TreeID']"
   ]
  },
  {
   "cell_type": "code",
   "execution_count": 10,
   "id": "d0af908d",
   "metadata": {},
   "outputs": [
    {
     "data": {
      "text/plain": [
       "Zip Codes\n",
       "54.0        9403\n",
       "55.0        7410\n",
       "56.0       10470\n",
       "57.0        5626\n",
       "58.0       12214\n",
       "59.0        7359\n",
       "61.0          32\n",
       "62.0           4\n",
       "63.0        9175\n",
       "64.0        4566\n",
       "308.0       4596\n",
       "309.0       5418\n",
       "310.0       1607\n",
       "28588.0        7\n",
       "28590.0        1\n",
       "28852.0     6248\n",
       "28853.0     8667\n",
       "28854.0      309\n",
       "28855.0     2494\n",
       "28856.0     8852\n",
       "28857.0     1273\n",
       "28858.0     7515\n",
       "28859.0    21286\n",
       "28860.0     2365\n",
       "28861.0    12865\n",
       "28862.0    13008\n",
       "29490.0     9687\n",
       "29491.0     9610\n",
       "29492.0    10611\n",
       "Name: TreeID, dtype: int64"
      ]
     },
     "execution_count": 10,
     "metadata": {},
     "output_type": "execute_result"
    }
   ],
   "source": [
    "treesByZipcode.count()"
   ]
  },
  {
   "cell_type": "code",
   "execution_count": 11,
   "id": "8b124f69",
   "metadata": {
    "scrolled": true
   },
   "outputs": [
    {
     "data": {
      "text/plain": [
       "<AxesSubplot:xlabel='Zip Codes'>"
      ]
     },
     "execution_count": 11,
     "metadata": {},
     "output_type": "execute_result"
    },
    {
     "data": {
      "image/png": "[encoded data removed]",
      "text/plain": [
       "<Figure size 432x288 with 1 Axes>"
      ]
     },
     "metadata": {
      "needs_background": "light"
     },
     "output_type": "display_data"
    }
   ],
   "source": [
    "treesByZipcode.count().plot.bar()"
   ]
  },
  {
   "cell_type": "code",
   "execution_count": 12,
   "id": "b8066406",
   "metadata": {},
   "outputs": [
    {
     "data": {
      "text/plain": [
       "<AxesSubplot:ylabel='Frequency'>"
      ]
     },
     "execution_count": 12,
     "metadata": {},
     "output_type": "execute_result"
    },
    {
     "data": {
      "image/png": "[encoded data removed]",
      "text/plain": [
       "<Figure size 432x288 with 1 Axes>"
      ]
     },
     "metadata": {
      "needs_background": "light"
     },
     "output_type": "display_data"
    }
   ],
   "source": [
    "isZipcode = isTree[isTree['Zip Codes'] >= 28000]\n",
    "isZipcode['Zip Codes'].plot.hist(by='Zip Codes', bins=100)"
   ]
  },
  {
   "cell_type": "code",
   "execution_count": 13,
   "id": "1e07a84f",
   "metadata": {},
   "outputs": [],
   "source": [
    "private = file[file.qCaretaker == \"Private\"]"
   ]
  },
  {
   "cell_type": "code",
   "execution_count": 14,
   "id": "b88b971f",
   "metadata": {},
   "outputs": [],
   "source": [
    "DPW = file[file.qCaretaker == \"DPW\"]"
   ]
  },
  {
   "cell_type": "code",
   "execution_count": 20,
   "id": "eb1c63de",
   "metadata": {},
   "outputs": [],
   "source": [
    "caretaker = file.groupby('qCaretaker')['TreeID']"
   ]
  },
  {
   "cell_type": "code",
   "execution_count": 21,
   "id": "404e154f",
   "metadata": {},
   "outputs": [
    {
     "data": {
      "text/plain": [
       "<AxesSubplot:xlabel='qCaretaker'>"
      ]
     },
     "execution_count": 21,
     "metadata": {},
     "output_type": "execute_result"
    },
    {
     "data": {
      "image/png": "[encoded data removed]",
      "text/plain": [
       "<Figure size 432x288 with 1 Axes>"
      ]
     },
     "metadata": {
      "needs_background": "light"
     },
     "output_type": "display_data"
    }
   ],
   "source": [
    "caretaker.count().plot.bar()"
   ]
  },
  {
   "cell_type": "code",
   "execution_count": null,
   "id": "d9d8c11b",
   "metadata": {},
   "outputs": [],
   "source": []
  }
 ],
 "metadata": {
  "kernelspec": {
   "display_name": "Python 3 (ipykernel)",
   "language": "python",
   "name": "python3"
  },
  "language_info": {
   "codemirror_mode": {
    "name": "ipython",
    "version": 3
   },
   "file_extension": ".py",
   "mimetype": "text/x-python",
   "name": "python",
   "nbconvert_exporter": "python",
   "pygments_lexer": "ipython3",
   "version": "3.9.7"
  }
 },
 "nbformat": 4,
 "nbformat_minor": 5
}
